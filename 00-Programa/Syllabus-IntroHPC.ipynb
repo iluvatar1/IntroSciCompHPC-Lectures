{
 "cells": [
  {
   "cell_type": "markdown",
   "id": "984ee542-bb0d-4f30-b1bc-d27533a08e37",
   "metadata": {},
   "source": [
    "# Objetivo General\n",
    "\n",
    "Introducir al estudiante a las diversas herramientas técnicas (control\n",
    "de versiones, profiling, optimización, etc), y algunos métodos de la\n",
    "física computacional (errores en computación, uso de librerías para\n",
    "funciones especiales), y las diversas herramientas de programación en\n",
    "paralelo en memoria compartida y distribuida (OpenMp y MPI). Debe saber\n",
    "programar en C/C++.\n",
    "\n",
    "El curso está dividido en dos módulos, cada uno aproximadamente de 8\n",
    "semanas. En el primer módulo se tratan herramientas básicas en linux\n",
    "como programación en bash, awk, sed, makefiles, y de optimización de la\n",
    "programación serial incluyendo debugging y profiling. En el segundo\n",
    "módulo se introduce la computación científica de alto rendimiento y la\n",
    "programación en paralelo en memoria compartida\n",
    "([openMP](https://www.openmp.org/)) y memoria distribuida\n",
    "([MPI](https://www.mpi-forum.org/docs/)), haciendo énfasis en la\n",
    "eficiencia y escalabilidad.\n",
    "\n",
    "La información del curso, sus materiales, y actividades se manejarán en\n",
    "- https://iluvatar1.github.io/IntroSciCompHPC-Lectures/ (allí se encuentra el link del repositorio de lectures)\n",
    "- Google classroom: Allí se asignan algunas tareas, se hacen anuncios, y encuentran los links de atención\n",
    "- Moodle: Actividades de entrega como workshops, proyectos, etc. "
   ]
  },
  {
   "cell_type": "markdown",
   "id": "eca32d56-187c-49eb-8ef8-735164449e21",
   "metadata": {},
   "source": [
    "# Contenidos Generales\n",
    "\n",
    "## Módulo I: Herramientas básicas y programación serial eficiente\n",
    "\n",
    "1.  The linux operating system. Working environment (remote access,\n",
    "    virtual machines). Programming tools and languages.\n",
    "    \n",
    "3.  Shell/bash usage, text manipulation tools (awk, sed). Basic version\n",
    "    control with git (and <https://github.com>).\n",
    "\n",
    "4.  Optional: Brief review of C++ programming (compilation,\n",
    "    `C++11, ..., C++17`)\n",
    "\n",
    "5.  Automation with Makefiles: Simple examples for compilation. Example\n",
    "    for a scientific production pipeline.\n",
    "\n",
    "6.  Floating point arithmetic: errors and stability\n",
    "\n",
    "7.  Use of numerical libraries: Special functions, Random Numbers and\n",
    "    Transformations of random distributions\n",
    "\n",
    "8.  Debugging (optional tools: gdb, ddd, valgrind, pygdb)\n",
    "\n",
    "9.  Profiling (optional tools: valgrind, gprof, google performance\n",
    "    tools) Optimization with compiler flags)"
   ]
  },
  {
   "cell_type": "markdown",
   "id": "4eb5f8f2-b3d3-4a26-8652-70c1ee5ec8f8",
   "metadata": {},
   "source": [
    "## Módulo II: Introducción a HPC y programación en paralelo\n",
    "\n",
    "1.  Linear matrix systems: $Ax=b$ and Eigensystems through numerical\n",
    "    libraries. Performance comparison between own and library\n",
    "    implementations.\n",
    "\n",
    "2.  Introduction to High Performance Computing\n",
    "\n",
    "3.  Introduction to parallel programming with shared memory: OpenMP.\n",
    "    Private and shared variables. Parallel scaling.\n",
    "\n",
    "4.  Applications of OpenMP: computing integrals, matrix multiplication.\n",
    "    Scaling on different machines. Amdahl law.\n",
    "\n",
    "5.  Introduction to parallel programming with distributed memory: MPI.\n",
    "    Scaling across machines.\n",
    "\n",
    "6.  Point to point communication. Scaling and comparison on single\n",
    "    machine and several machines.\n",
    "\n",
    "7.  Collective communications. Comparison with point to point\n",
    "    communications.\n",
    "\n",
    "8.  Examples of parallel libraries for simulation.\n",
    "\n",
    "9.  Cluster use: how to submit jobs to a cluster using the slurm\n",
    "    resource manager."
   ]
  },
  {
   "cell_type": "markdown",
   "id": "867d93bb-d833-4838-84f5-6f17d6230c46",
   "metadata": {},
   "source": [
    "# Evaluación\n",
    "\n",
    "| Item                                           | Porcentaje | Fecha         |\n",
    "|:-----------------------------------------------|-----------:|:--------------|\n",
    "| Tareas, minitareas, y trabajos en clase o casa |         40 | Al azar       |\n",
    "| Proyecto intermedio                             |         30 | Semana 8 |\n",
    "| Proyecto Final                                 |         30 | Última semana |"
   ]
  },
  {
   "cell_type": "markdown",
   "id": "e8c57d6f-0cde-4ec9-9624-f520f89a7932",
   "metadata": {},
   "source": [
    "# Metodología de evaluación\n",
    "\n",
    "El curso es teórico-**práctico**. Se busca que el estudiante trabaje\n",
    "activamente durante y fuera de las clases. Por esta razón, se asignarán\n",
    "tareas en clase, y fuera de la misma, con diferentes niveles de\n",
    "dificultad. Algunas serán individuales y otras en grupo, ya que se busca\n",
    "fomentar el trabajo en equipo. Algunas tareas\n",
    "serán calificadas al azar, o de acuerdo a su complejidad se sumarán para\n",
    "completar una tarea completa, etc. Otras tareas deberán ser co-evaluadas y \n",
    "su nota final dependerá de lo bien y consistente que haya evaluado a los \n",
    "demás.\n",
    "\n",
    "Los proyectos buscan desarrollar un tema específico en donde se apliquen\n",
    "los temas vistos y adicionalmente se usen las habilidades blandas de\n",
    "trabajo en equipo, de comunicación y coordinación.\n",
    "\n",
    "En los trabajos en grupo de los proyectos se evaluará el trabajo con auto-evaluación \n",
    "y co-evaluación, de manera que la nota final de cada dependerá también de \n",
    "esta evaluación de su contribución en el trabajo."
   ]
  },
  {
   "cell_type": "markdown",
   "id": "36373576-adc4-4f63-92fb-920557a36786",
   "metadata": {},
   "source": [
    "# Bibliografía\n",
    "\n",
    "<https://theartofhpc.com/>\n",
    "\n",
    "- J.F. Boudreau and E.S. Swanson. Applied Computational Physics. Oxford University Press, 2018.\n",
    "- A.L. Garcia. Numerical Methods for Physics. Prentice Hall, 2000.\n",
    "- G. Hager and G. Wellein. Introduction to High Performance Computing for Scientists and Engineers. Chapman & Hall/CRC Computational Science. Taylor & Francis, 2010.\n",
    "- R.H. Landau, M.J. PÃ¡ez, and C.C. Bordeianu. Computational Physics: Problem Solving with Computers. Wiley, 2007.\n",
    "- R Landau, MJ Paez, and C Bordeianu. A survey of computational physics: Python multimodal eBook, 2011.\n",
    "- R.H. Landau, M.J. Páez, and C.C. Bordeianu. Computational Physics: Problem Solving with Python. EBL-Schweitzer. Wiley, 2015.\n",
    "- S. Oliveira and D.E. Stewart. Writing Scientific Software: A Guide to Good Style. Cambridge University Press, 2006.\n",
    "- J. Pitt-Francis and J. Whiteley. Guide to Scientific Computing in C++. Undergraduate Topics in Computer Science.\n",
    "Springer International Publishing, 2018.\n",
    "- A. Scopatz and K.D. Huff. Effective Computation in Physics. O’Reilly Media, 2015.\n",
    "- Simon Sirca and Martin Horvat. Computational Methods for Physicists. Springer Berlin Heidelberg, 2012.\n",
    "- E. Smith. Introduction to the Tools of Scientific Computing. Texts in Computational Science and Engineering.\n",
    "Springer International Publishing, 2020.\n",
    "- B. Stroustrup. Programming: Principles and Practice Using C++. Pearson Education, 2014.\n",
    "- R. Trobec, B. Slivnik, P. Bulić, and B. Robič. Introduction to Parallel Computing: From Algorithms to Programming on State-of-the-Art Platforms. Undergraduate Topics in Computer Science. Springer International Publishing, 2018."
   ]
  },
  {
   "cell_type": "markdown",
   "id": "d874b93d-c34b-4c94-adc7-48e3508082ed",
   "metadata": {},
   "source": [
    "# Complementary tools"
   ]
  },
  {
   "cell_type": "markdown",
   "id": "d1ed543f-11ba-4847-9a59-e43806bf16b9",
   "metadata": {},
   "source": [
    "## Herramientas complementarias de aprendizaje de c++\n",
    "\n",
    "### Cursos virtuales de C++\n",
    "\n",
    "En la web encuentra muchos cursos, pero asegurese de usar un curso que\n",
    "utilice la versión moderna del estándar (C++11 o C++14). Puede seguir,\n",
    "por ejemplo,\n",
    "\n",
    "-   <https://hackingcpp.com/index.html>\n",
    "-   <https://learnxinyminutes.com/docs/c++/>\n",
    "-   <http://www.learncpp.com/>\n",
    "-   <https://www.codesdope.com/cpp-introduction/>\n",
    "-   <http://en.cppreference.com/w/>\n",
    "-   <https://www.edx.org/course/programming-basics-iitbombayx-cs101-1x-1>\n",
    "-   <https://www.udemy.com/curso-de-cpp-basico-a-avanzado/>\n",
    "-   <https://developers.google.com/edu/c++/>\n",
    "-   [Channel\n",
    "    9](https://channel9.msdn.com/Series/C9-Lectures-Stephan-T-Lavavej-Standard-Template-Library-STL-/C9-Lectures-Introduction-to-STL-with-Stephan-T-Lavavej)\n",
    "-   <https://cestlaz.github.io/stories/emacs/>\n",
    "-   [Curso Microsoft\n",
    "    C++](https://mva.microsoft.com/en-us/training-courses/c-a-general-purpose-language-and-library-jump-start-8251?l=fVmOhQKy_5104984382%5D(https://mva.microsoft.com/en-us/training-courses/c-a-general-purpose-language-and-library-jump-start-8251?l=fVmOhQKy_5104984382))\n",
    "-   [Jamie\n",
    "    King](https://www.youtube.com/user/1kingja/playlists?sort=dd&shelf_id=6&view=50)\n",
    "-   [Modern C++ - Bo\n",
    "    Quian](https://www.youtube.com/watch?v=U6mgsPqV32A&list=PL5jc9xFGsL8FWtnZBeTqZBbniyw0uHyaH)\n"
   ]
  },
  {
   "cell_type": "markdown",
   "id": "2878743a-3cf9-4e05-8604-a6fa660ace21",
   "metadata": {},
   "source": [
    "### Ejercicios de programación\n",
    "\n",
    "-   <http://codeforces.com/problemset>\n",
    "-   <https://projecteuler.net/>\n",
    "-   <https://projectlovelace.net/>\n",
    "-   <https://exercism.io>\n",
    "-   <http://www.codeabbey.com/>\n",
    "-   <https://adventofcode.com/>\n",
    "-   <https://www.codechef.com/>\n",
    "-   <https://www.euclidea.xyz/>"
   ]
  },
  {
   "cell_type": "markdown",
   "id": "18b0b67a-b4a2-4fcb-9e1a-4b5bdc80e81c",
   "metadata": {},
   "source": [
    "### Shell/bash:\n",
    "\n",
    "-   <https://ubuntu.com/tutorials/command-line-for-beginners#1-overview>\n",
    "-   <https://www.youtube.com/watch?v=Z56Jmr9Z34Q&list=PLyzOVJj3bHQuloKGG59rS43e29ro7I57J&index=1>\n",
    "-   <https://www.youtube.com/watch?v=kgII-YWo3Zw&list=PLyzOVJj3bHQuloKGG59rS43e29ro7I57J&index=2>\n",
    "-   <https://linuxcommand.org/lc3_learning_the_shell.php>"
   ]
  },
  {
   "cell_type": "markdown",
   "id": "2871042f-6ee2-46c4-8b51-3083f339b071",
   "metadata": {},
   "source": [
    "### Git practice\n",
    "\n",
    "-   <https://gitexercises.fracz.com/>\n",
    "-   <https://www.youtube.com/watch?v=2sjqTHE0zok&list=PLyzOVJj3bHQuloKGG59rS43e29ro7I57J&index=6>\n",
    "-   <https://learngitbranching.js.org/>"
   ]
  },
  {
   "cell_type": "markdown",
   "id": "d26d4857-cc9c-4a06-8b19-8189dc513dbf",
   "metadata": {},
   "source": [
    "### Python tutor : visualization of `c++` code\n",
    "\n",
    "-   <http://www.pythontutor.com/cpp.html#mode=edit>"
   ]
  },
  {
   "cell_type": "markdown",
   "id": "9e2d6247-6f99-458b-ba23-8e38036aeee1",
   "metadata": {},
   "source": [
    "### Online c++ compilers\n",
    "\n",
    "-   <https://www.jdoodle.com/online-compiler-c>++\n",
    "-   <http://cpp.sh/>\n",
    "-   <https://www.codechef.com/ide>"
   ]
  },
  {
   "cell_type": "markdown",
   "id": "6b060311-9046-4ec0-9700-10dd4a62e5ca",
   "metadata": {},
   "source": [
    "### Data structure visualizations"
   ]
  },
  {
   "cell_type": "markdown",
   "id": "d05353ab-6c96-487c-b66f-8151792b774d",
   "metadata": {},
   "source": [
    "<https://www.cs.usfca.edu/~galles/visualization/Algorithms.html>"
   ]
  },
  {
   "cell_type": "markdown",
   "id": "f2db19a9-19e7-4028-b920-e1e4ced27dba",
   "metadata": {},
   "source": [
    "## Emacs Resources\n",
    "\n",
    "-   <https://www.youtube.com/playlist?list=PL9KxKa8NpFxIcNQa9js7dQQIHc81b0-Xg>\n",
    "-   <https://mickael.kerjean.me/2017/03/18/emacs-tutorial-series-episode-0/>\n",
    "-   Configuration builder : <http://emacs-bootstrap.com/>\n",
    "-   <http://cestlaz.github.io/stories/emacs/>\n",
    "-   <http://tuhdo.github.io/c-ide.html>\n",
    "-   <http://emacsrocks.com>\n",
    "-   <http://emacs.sexy/>\n",
    "-   <https://github.com/emacs-tw/awesome-emacs>\n",
    "-   <http://spacemacs.org>"
   ]
  },
  {
   "cell_type": "code",
   "execution_count": null,
   "id": "a6f35819-2c9f-463b-a4a3-1c21ea4851bf",
   "metadata": {},
   "outputs": [],
   "source": []
  }
 ],
 "metadata": {
  "kernelspec": {
   "display_name": "Python 3 (ipykernel)",
   "language": "python",
   "name": "python3"
  },
  "language_info": {
   "codemirror_mode": {
    "name": "ipython",
    "version": 3
   },
   "file_extension": ".py",
   "mimetype": "text/x-python",
   "name": "python",
   "nbconvert_exporter": "python",
   "pygments_lexer": "ipython3",
   "version": "3.12.9"
  }
 },
 "nbformat": 4,
 "nbformat_minor": 5
}
