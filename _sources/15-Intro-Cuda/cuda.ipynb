{
 "cells": [
  {
   "cell_type": "markdown",
   "id": "11e08780-d5a6-444c-9cd6-dafb58471036",
   "metadata": {},
   "source": [
    "# Ref\n",
    "\n",
    "-   <https://codeconfessions.substack.com/p/gpu-computing>\n",
    "-   <https://libocca.org/#/guide/user-guide/introduction>\n",
    "-   <https://news.ycombinator.com/item?id=36304143>\n",
    "-   <https://news.ycombinator.com/item?id=36210599>\n",
    "\n",
    "<https://developer.nvidia.com/blog/multi-gpu-programming-with-standard-parallel-c-part-1/>\n",
    "\n",
    "https://www.youtube.com/watch?v=h9Z4oGN89MU : How does a gpu work\n",
    "\n",
    "https://news.ycombinator.com/item?id=42042016"
   ]
  }
 ],
 "metadata": {
  "language_info": {
   "name": "python"
  }
 },
 "nbformat": 4,
 "nbformat_minor": 5
}
