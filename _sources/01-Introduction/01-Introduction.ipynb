{
 "cells": [
  {
   "cell_type": "markdown",
   "metadata": {},
   "source": [
    "# Introduction\n",
    "## Scientific Computing\n",
    "- https://en.wikiversity.org/wiki/Scientific_computing\n",
    "- https://www.nature.com/articles/d41586-024-00725-1"
   ]
  },
  {
   "cell_type": "markdown",
   "metadata": {},
   "source": [
    "## High Performance Scientific Computing\n",
    "\n",
    "https://en.wikipedia.org/wiki/High-performance_computing?useskin=vector\n",
    "\n",
    "<https://hpsf.io/>\n",
    "\n",
    "- Performance versus time to solution\n",
    "<div style=\"text-align: center;\">\n",
    "    <img src=\"https://www.researchgate.net/profile/Gal-Oren/publication/336577121/figure/fig4/AS:814468510515200@1571195833245/Code-Languages-Top-Feature-Comparison-in-the-Case-of-Numerical-Simulations_W640.jpg\" alt=\"Image Description\" width=\"600\">\n",
    "    <figcaption>From: \"https://www.researchgate.net/publication/336577121_BACKUS_Comprehensive_High-Performance_Research_Software_Engineering_Approach_for_Simulations_in_Supercomputing_Systems/figures?lo=1\"</figcaption>\n",
    "</div>"
   ]
  },
  {
   "cell_type": "markdown",
   "metadata": {},
   "source": [
    "- CO2 Comsumption\n",
    "<div style=\"text-align: center;\">\n",
    "    <img src=\"https://media.springernature.com/full/springer-static/image/art%3A10.1038%2Fs41550-021-01342-y/MediaObjects/41550_2021_1342_Fig1_HTML.png\" alt=\"Image Description\" width=\"900\">\n",
    "    <figcaption>From: \"https://www.nature.com/articles/s41550-021-01342-y\"</figcaption>\n",
    "</div>"
   ]
  },
  {
   "cell_type": "code",
   "execution_count": null,
   "metadata": {},
   "outputs": [],
   "source": [
    "%%html\n",
    "<iframe src=\"https://ourworldindata.org/grapher/electricity-prod-source-stacked?stackMode=relative&tab=chart\" loading=\"lazy\" style=\"width: 100%; height: 600px; border: 0px none;\" allow=\"web-share; clipboard-write\"></iframe>\n",
    "\n"
   ]
  },
  {
   "cell_type": "markdown",
   "metadata": {},
   "source": [
    "<https://datascience.aero/green-programming-reducing-your-carbon-emissions-when-coding/ >"
   ]
  },
  {
   "cell_type": "markdown",
   "metadata": {},
   "source": [
    "- Language use in a typical cluster\n",
    "<div style=\"text-align: center;\">\n",
    "    <img src=\"https://substackcdn.com/image/fetch/w_1456,c_limit,f_webp,q_auto:good,fl_progressive:steep/https%3A%2F%2Fbucketeer-e05bbc84-baa3-437e-9518-adb32be77984.s3.amazonaws.com%2Fpublic%2Fimages%2F7cdb4847-589f-49e9-9429-cbb623821bcb_1200x786.png\" alt=\"Image Description\" width=\"900\">\n",
    "    <figcaption>From: \"https://cpufun.substack.com/p/is-fortran-a-dead-language\"</figcaption>\n",
    "</div>\n",
    "\n",
    "- Moore law:\n",
    "  + https://en.wikipedia.org/wiki/Moore%27s_law?useskin=vector\n",
    "  + https://ourworldindata.org/grapher/transistors-per-microprocessor\n",
    "<div style=\"text-align: center;\">\n",
    "<figure>\n",
    "<img src=\"https://upload.wikimedia.org/wikipedia/commons/0/00/Moore%27s_Law_Transistor_Count_1970-2020.png\" width=80%>\n",
    "<figcaption> Moore law </figcaption>\n",
    "</figure>\n",
    "</div>"
   ]
  },
  {
   "cell_type": "markdown",
   "metadata": {},
   "source": [
    "## Training HPC\n",
    "- <https://www.archer2.ac.uk/training/> and <https://www.epcc.ed.ac.uk/education-and-training/training-courses>\n",
    "- <https://www.hlrs.de/training/2024/>\n",
    "- NLHPC courses  <https://www.nlhpc.cl/eventos/curso-introductorio-usuarios-nlhpc-mayo-2023/>\n",
    "- <https://www.futurelearn.com/courses/supercomputing>\n",
    "- <https://hpc.fau.de/>\n",
    "- <https://www.fz-juelich.de/en/ias/jsc/education/training-courses>\n"
   ]
  },
  {
   "cell_type": "markdown",
   "metadata": {},
   "source": [
    "# Computer Architecture\n",
    "See 01-intro.pdf\n",
    "\n",
    "Check: \n",
    "- <https://computers-are-fast.github.io/>\n",
    "- Branch education, computer hardware: https://www.youtube.com/watch?v=d86ws7mQYIg&t=0s"
   ]
  },
  {
   "cell_type": "markdown",
   "metadata": {},
   "source": []
  }
 ],
 "metadata": {
  "kernelspec": {
   "display_name": "Python 3 (ipykernel)",
   "language": "python",
   "name": "python3"
  },
  "language_info": {
   "codemirror_mode": {
    "name": "ipython",
    "version": 3
   },
   "file_extension": ".py",
   "mimetype": "text/x-python",
   "name": "python",
   "nbconvert_exporter": "python",
   "pygments_lexer": "ipython3",
   "version": "3.12.9"
  }
 },
 "nbformat": 4,
 "nbformat_minor": 4
}
