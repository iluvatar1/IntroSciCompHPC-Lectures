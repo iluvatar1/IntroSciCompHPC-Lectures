{
 "cells": [
  {
   "cell_type": "markdown",
   "metadata": {},
   "source": [
    "# Some extra tools for development\n",
    "## Docker\n",
    "https://www.docker.com/\n",
    "https://podman.io/\n",
    "https://apptainer.org/\n",
    "https://github.com/containers/podman-desktop-extension-bootc\n",
    "https://universal-blue.org/\n",
    "https://blue-build.org/\n",
    "\n",
    "\n",
    "## Env vars tools\n",
    "https://github.com/jdx/mise\n"
   ]
  }
 ],
 "metadata": {
  "language_info": {
   "name": "python"
  }
 },
 "nbformat": 4,
 "nbformat_minor": 2
}
